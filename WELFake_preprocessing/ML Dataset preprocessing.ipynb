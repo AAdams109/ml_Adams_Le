{
 "cells": [
  {
   "cell_type": "markdown",
   "metadata": {},
   "source": [
    "Dataset creation and splitting"
   ]
  },
  {
   "cell_type": "code",
   "execution_count": 2,
   "metadata": {},
   "outputs": [],
   "source": [
    "import pandas as pd\n",
    "import numpy as np"
   ]
  },
  {
   "cell_type": "markdown",
   "metadata": {},
   "source": [
    "Read the CSV file"
   ]
  },
  {
   "cell_type": "code",
   "execution_count": 4,
   "metadata": {},
   "outputs": [
    {
     "name": "stdout",
     "output_type": "stream",
     "text": [
      "<class 'pandas.core.frame.DataFrame'>\n",
      "RangeIndex: 72134 entries, 0 to 72133\n",
      "Data columns (total 4 columns):\n",
      " #   Column      Non-Null Count  Dtype \n",
      "---  ------      --------------  ----- \n",
      " 0   Unnamed: 0  72134 non-null  int64 \n",
      " 1   title       71576 non-null  object\n",
      " 2   text        72095 non-null  object\n",
      " 3   label       72134 non-null  int64 \n",
      "dtypes: int64(2), object(2)\n",
      "memory usage: 2.2+ MB\n"
     ]
    }
   ],
   "source": [
    "df = pd.read_csv('WELFake_Dataset.csv')\n",
    "df.info()"
   ]
  },
  {
   "cell_type": "markdown",
   "metadata": {},
   "source": [
    "Clean up missing values and drop unneeded columns"
   ]
  },
  {
   "cell_type": "code",
   "execution_count": 5,
   "metadata": {},
   "outputs": [
    {
     "name": "stdout",
     "output_type": "stream",
     "text": [
      "<class 'pandas.core.frame.DataFrame'>\n",
      "Index: 71537 entries, 0 to 72133\n",
      "Data columns (total 3 columns):\n",
      " #   Column  Non-Null Count  Dtype \n",
      "---  ------  --------------  ----- \n",
      " 0   title   71537 non-null  object\n",
      " 1   text    71537 non-null  object\n",
      " 2   label   71537 non-null  int64 \n",
      "dtypes: int64(1), object(2)\n",
      "memory usage: 2.2+ MB\n"
     ]
    }
   ],
   "source": [
    "columns = ['Unnamed: 0']\n",
    "df = df.drop(columns, axis=1)\n",
    "df = df.dropna(axis=0)\n",
    "df.info()"
   ]
  },
  {
   "cell_type": "markdown",
   "metadata": {},
   "source": [
    "Save backup DB"
   ]
  },
  {
   "cell_type": "code",
   "execution_count": 7,
   "metadata": {},
   "outputs": [
    {
     "name": "stdout",
     "output_type": "stream",
     "text": [
      "Result CSV saved to WELFake_Cleaned.csv\n"
     ]
    }
   ],
   "source": [
    "df.to_csv('C:/Users/benny/Downloads/WELFake_Cleaned.csv', index='false')\n",
    "print('Result CSV saved to WELFake_Cleaned.csv')"
   ]
  },
  {
   "cell_type": "markdown",
   "metadata": {},
   "source": [
    "Split DB into 3 sub dataframes"
   ]
  },
  {
   "cell_type": "code",
   "execution_count": 8,
   "metadata": {},
   "outputs": [
    {
     "name": "stderr",
     "output_type": "stream",
     "text": [
      "C:\\Users\\benny\\AppData\\Roaming\\Python\\Python313\\site-packages\\numpy\\_core\\fromnumeric.py:57: FutureWarning: 'DataFrame.swapaxes' is deprecated and will be removed in a future version. Please use 'DataFrame.transpose' instead.\n",
      "  return bound(*args, **kwds)\n"
     ]
    },
    {
     "name": "stdout",
     "output_type": "stream",
     "text": [
      "<class 'pandas.core.frame.DataFrame'>\n",
      "Index: 23846 entries, 0 to 24005\n",
      "Data columns (total 3 columns):\n",
      " #   Column  Non-Null Count  Dtype \n",
      "---  ------  --------------  ----- \n",
      " 0   title   23846 non-null  object\n",
      " 1   text    23846 non-null  object\n",
      " 2   label   23846 non-null  int64 \n",
      "dtypes: int64(1), object(2)\n",
      "memory usage: 745.2+ KB\n",
      "Sub-dataset 1 saved as WELFake_sub_dataset_1.csv\n",
      "<class 'pandas.core.frame.DataFrame'>\n",
      "Index: 23846 entries, 24006 to 48061\n",
      "Data columns (total 3 columns):\n",
      " #   Column  Non-Null Count  Dtype \n",
      "---  ------  --------------  ----- \n",
      " 0   title   23846 non-null  object\n",
      " 1   text    23846 non-null  object\n",
      " 2   label   23846 non-null  int64 \n",
      "dtypes: int64(1), object(2)\n",
      "memory usage: 745.2+ KB\n",
      "Sub-dataset 2 saved as WELFake_sub_dataset_2.csv\n",
      "<class 'pandas.core.frame.DataFrame'>\n",
      "Index: 23845 entries, 48062 to 72133\n",
      "Data columns (total 3 columns):\n",
      " #   Column  Non-Null Count  Dtype \n",
      "---  ------  --------------  ----- \n",
      " 0   title   23845 non-null  object\n",
      " 1   text    23845 non-null  object\n",
      " 2   label   23845 non-null  int64 \n",
      "dtypes: int64(1), object(2)\n",
      "memory usage: 745.2+ KB\n",
      "Sub-dataset 3 saved as WELFake_sub_dataset_3.csv\n",
      "All sub Datasets have been split and saved successfully.\n"
     ]
    }
   ],
   "source": [
    "# Split into 3 sub-dataframes\n",
    "split_dfs = np.array_split(df, 3)  # This splits the dataframe into 3 equal parts\n",
    "\n",
    "# Save each sub-dataframe to a CSV file\n",
    "for i, sub_df in enumerate(split_dfs):\n",
    "    sub_df.to_csv(f'WELFake_sub_dataset_{i+1}.csv', index=False)\n",
    "    sub_df.info()  # Print info for each sub-dataframe\n",
    "    print(f\"Sub-dataset {i+1} saved as WELFake_sub_dataset_{i+1}.csv\")\n",
    "\n",
    "print(\"All sub Datasets have been split and saved successfully.\")"
   ]
  }
 ],
 "metadata": {
  "kernelspec": {
   "display_name": "Python 3",
   "language": "python",
   "name": "python3"
  },
  "language_info": {
   "codemirror_mode": {
    "name": "ipython",
    "version": 3
   },
   "file_extension": ".py",
   "mimetype": "text/x-python",
   "name": "python",
   "nbconvert_exporter": "python",
   "pygments_lexer": "ipython3",
   "version": "3.13.1"
  }
 },
 "nbformat": 4,
 "nbformat_minor": 2
}
